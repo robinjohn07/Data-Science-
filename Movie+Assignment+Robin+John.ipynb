{
 "cells": [
  {
   "cell_type": "code",
   "execution_count": 4,
   "metadata": {},
   "outputs": [],
   "source": [
    "# Supress Warnings\n",
    "\n",
    "import warnings\n",
    "warnings.filterwarnings('ignore')"
   ]
  },
  {
   "cell_type": "code",
   "execution_count": 5,
   "metadata": {},
   "outputs": [],
   "source": [
    "# Import the numpy and pandas packages\n",
    "\n",
    "import numpy as np\n",
    "import pandas as pd\n",
    "import matplotlib.pyplot as plt"
   ]
  },
  {
   "cell_type": "markdown",
   "metadata": {},
   "source": [
    "## Task 1: Reading and Inspection\n",
    "\n",
    "-  ### Subtask 1.1: Import and read\n",
    "\n",
    "Import and read the movie database. Store it in a variable called `movies`."
   ]
  },
  {
   "cell_type": "code",
   "execution_count": 6,
   "metadata": {},
   "outputs": [
    {
     "data": {
      "text/html": [
       "<div>\n",
       "<style scoped>\n",
       "    .dataframe tbody tr th:only-of-type {\n",
       "        vertical-align: middle;\n",
       "    }\n",
       "\n",
       "    .dataframe tbody tr th {\n",
       "        vertical-align: top;\n",
       "    }\n",
       "\n",
       "    .dataframe thead th {\n",
       "        text-align: right;\n",
       "    }\n",
       "</style>\n",
       "<table border=\"1\" class=\"dataframe\">\n",
       "  <thead>\n",
       "    <tr style=\"text-align: right;\">\n",
       "      <th></th>\n",
       "      <th>color</th>\n",
       "      <th>director_name</th>\n",
       "      <th>num_critic_for_reviews</th>\n",
       "      <th>duration</th>\n",
       "      <th>director_facebook_likes</th>\n",
       "      <th>actor_3_facebook_likes</th>\n",
       "      <th>actor_2_name</th>\n",
       "      <th>actor_1_facebook_likes</th>\n",
       "      <th>gross</th>\n",
       "      <th>genres</th>\n",
       "      <th>...</th>\n",
       "      <th>num_user_for_reviews</th>\n",
       "      <th>language</th>\n",
       "      <th>country</th>\n",
       "      <th>content_rating</th>\n",
       "      <th>budget</th>\n",
       "      <th>title_year</th>\n",
       "      <th>actor_2_facebook_likes</th>\n",
       "      <th>imdb_score</th>\n",
       "      <th>aspect_ratio</th>\n",
       "      <th>movie_facebook_likes</th>\n",
       "    </tr>\n",
       "  </thead>\n",
       "  <tbody>\n",
       "    <tr>\n",
       "      <td>0</td>\n",
       "      <td>Color</td>\n",
       "      <td>James Cameron</td>\n",
       "      <td>723.0</td>\n",
       "      <td>178.0</td>\n",
       "      <td>0.0</td>\n",
       "      <td>855.0</td>\n",
       "      <td>Joel David Moore</td>\n",
       "      <td>1000.0</td>\n",
       "      <td>760505847.0</td>\n",
       "      <td>Action|Adventure|Fantasy|Sci-Fi</td>\n",
       "      <td>...</td>\n",
       "      <td>3054.0</td>\n",
       "      <td>English</td>\n",
       "      <td>USA</td>\n",
       "      <td>PG-13</td>\n",
       "      <td>237000000.0</td>\n",
       "      <td>2009.0</td>\n",
       "      <td>936.0</td>\n",
       "      <td>7.9</td>\n",
       "      <td>1.78</td>\n",
       "      <td>33000</td>\n",
       "    </tr>\n",
       "    <tr>\n",
       "      <td>1</td>\n",
       "      <td>Color</td>\n",
       "      <td>Gore Verbinski</td>\n",
       "      <td>302.0</td>\n",
       "      <td>169.0</td>\n",
       "      <td>563.0</td>\n",
       "      <td>1000.0</td>\n",
       "      <td>Orlando Bloom</td>\n",
       "      <td>40000.0</td>\n",
       "      <td>309404152.0</td>\n",
       "      <td>Action|Adventure|Fantasy</td>\n",
       "      <td>...</td>\n",
       "      <td>1238.0</td>\n",
       "      <td>English</td>\n",
       "      <td>USA</td>\n",
       "      <td>PG-13</td>\n",
       "      <td>300000000.0</td>\n",
       "      <td>2007.0</td>\n",
       "      <td>5000.0</td>\n",
       "      <td>7.1</td>\n",
       "      <td>2.35</td>\n",
       "      <td>0</td>\n",
       "    </tr>\n",
       "    <tr>\n",
       "      <td>2</td>\n",
       "      <td>Color</td>\n",
       "      <td>Sam Mendes</td>\n",
       "      <td>602.0</td>\n",
       "      <td>148.0</td>\n",
       "      <td>0.0</td>\n",
       "      <td>161.0</td>\n",
       "      <td>Rory Kinnear</td>\n",
       "      <td>11000.0</td>\n",
       "      <td>200074175.0</td>\n",
       "      <td>Action|Adventure|Thriller</td>\n",
       "      <td>...</td>\n",
       "      <td>994.0</td>\n",
       "      <td>English</td>\n",
       "      <td>UK</td>\n",
       "      <td>PG-13</td>\n",
       "      <td>245000000.0</td>\n",
       "      <td>2015.0</td>\n",
       "      <td>393.0</td>\n",
       "      <td>6.8</td>\n",
       "      <td>2.35</td>\n",
       "      <td>85000</td>\n",
       "    </tr>\n",
       "    <tr>\n",
       "      <td>3</td>\n",
       "      <td>Color</td>\n",
       "      <td>Christopher Nolan</td>\n",
       "      <td>813.0</td>\n",
       "      <td>164.0</td>\n",
       "      <td>22000.0</td>\n",
       "      <td>23000.0</td>\n",
       "      <td>Christian Bale</td>\n",
       "      <td>27000.0</td>\n",
       "      <td>448130642.0</td>\n",
       "      <td>Action|Thriller</td>\n",
       "      <td>...</td>\n",
       "      <td>2701.0</td>\n",
       "      <td>English</td>\n",
       "      <td>USA</td>\n",
       "      <td>PG-13</td>\n",
       "      <td>250000000.0</td>\n",
       "      <td>2012.0</td>\n",
       "      <td>23000.0</td>\n",
       "      <td>8.5</td>\n",
       "      <td>2.35</td>\n",
       "      <td>164000</td>\n",
       "    </tr>\n",
       "    <tr>\n",
       "      <td>4</td>\n",
       "      <td>NaN</td>\n",
       "      <td>Doug Walker</td>\n",
       "      <td>NaN</td>\n",
       "      <td>NaN</td>\n",
       "      <td>131.0</td>\n",
       "      <td>NaN</td>\n",
       "      <td>Rob Walker</td>\n",
       "      <td>131.0</td>\n",
       "      <td>NaN</td>\n",
       "      <td>Documentary</td>\n",
       "      <td>...</td>\n",
       "      <td>NaN</td>\n",
       "      <td>NaN</td>\n",
       "      <td>NaN</td>\n",
       "      <td>NaN</td>\n",
       "      <td>NaN</td>\n",
       "      <td>NaN</td>\n",
       "      <td>12.0</td>\n",
       "      <td>7.1</td>\n",
       "      <td>NaN</td>\n",
       "      <td>0</td>\n",
       "    </tr>\n",
       "    <tr>\n",
       "      <td>...</td>\n",
       "      <td>...</td>\n",
       "      <td>...</td>\n",
       "      <td>...</td>\n",
       "      <td>...</td>\n",
       "      <td>...</td>\n",
       "      <td>...</td>\n",
       "      <td>...</td>\n",
       "      <td>...</td>\n",
       "      <td>...</td>\n",
       "      <td>...</td>\n",
       "      <td>...</td>\n",
       "      <td>...</td>\n",
       "      <td>...</td>\n",
       "      <td>...</td>\n",
       "      <td>...</td>\n",
       "      <td>...</td>\n",
       "      <td>...</td>\n",
       "      <td>...</td>\n",
       "      <td>...</td>\n",
       "      <td>...</td>\n",
       "      <td>...</td>\n",
       "    </tr>\n",
       "    <tr>\n",
       "      <td>5038</td>\n",
       "      <td>Color</td>\n",
       "      <td>Scott Smith</td>\n",
       "      <td>1.0</td>\n",
       "      <td>87.0</td>\n",
       "      <td>2.0</td>\n",
       "      <td>318.0</td>\n",
       "      <td>Daphne Zuniga</td>\n",
       "      <td>637.0</td>\n",
       "      <td>NaN</td>\n",
       "      <td>Comedy|Drama</td>\n",
       "      <td>...</td>\n",
       "      <td>6.0</td>\n",
       "      <td>English</td>\n",
       "      <td>Canada</td>\n",
       "      <td>NaN</td>\n",
       "      <td>NaN</td>\n",
       "      <td>2013.0</td>\n",
       "      <td>470.0</td>\n",
       "      <td>7.7</td>\n",
       "      <td>NaN</td>\n",
       "      <td>84</td>\n",
       "    </tr>\n",
       "    <tr>\n",
       "      <td>5039</td>\n",
       "      <td>Color</td>\n",
       "      <td>NaN</td>\n",
       "      <td>43.0</td>\n",
       "      <td>43.0</td>\n",
       "      <td>NaN</td>\n",
       "      <td>319.0</td>\n",
       "      <td>Valorie Curry</td>\n",
       "      <td>841.0</td>\n",
       "      <td>NaN</td>\n",
       "      <td>Crime|Drama|Mystery|Thriller</td>\n",
       "      <td>...</td>\n",
       "      <td>359.0</td>\n",
       "      <td>English</td>\n",
       "      <td>USA</td>\n",
       "      <td>TV-14</td>\n",
       "      <td>NaN</td>\n",
       "      <td>NaN</td>\n",
       "      <td>593.0</td>\n",
       "      <td>7.5</td>\n",
       "      <td>16.00</td>\n",
       "      <td>32000</td>\n",
       "    </tr>\n",
       "    <tr>\n",
       "      <td>5040</td>\n",
       "      <td>Color</td>\n",
       "      <td>Benjamin Roberds</td>\n",
       "      <td>13.0</td>\n",
       "      <td>76.0</td>\n",
       "      <td>0.0</td>\n",
       "      <td>0.0</td>\n",
       "      <td>Maxwell Moody</td>\n",
       "      <td>0.0</td>\n",
       "      <td>NaN</td>\n",
       "      <td>Drama|Horror|Thriller</td>\n",
       "      <td>...</td>\n",
       "      <td>3.0</td>\n",
       "      <td>English</td>\n",
       "      <td>USA</td>\n",
       "      <td>NaN</td>\n",
       "      <td>1400.0</td>\n",
       "      <td>2013.0</td>\n",
       "      <td>0.0</td>\n",
       "      <td>6.3</td>\n",
       "      <td>NaN</td>\n",
       "      <td>16</td>\n",
       "    </tr>\n",
       "    <tr>\n",
       "      <td>5041</td>\n",
       "      <td>Color</td>\n",
       "      <td>Daniel Hsia</td>\n",
       "      <td>14.0</td>\n",
       "      <td>100.0</td>\n",
       "      <td>0.0</td>\n",
       "      <td>489.0</td>\n",
       "      <td>Daniel Henney</td>\n",
       "      <td>946.0</td>\n",
       "      <td>10443.0</td>\n",
       "      <td>Comedy|Drama|Romance</td>\n",
       "      <td>...</td>\n",
       "      <td>9.0</td>\n",
       "      <td>English</td>\n",
       "      <td>USA</td>\n",
       "      <td>PG-13</td>\n",
       "      <td>NaN</td>\n",
       "      <td>2012.0</td>\n",
       "      <td>719.0</td>\n",
       "      <td>6.3</td>\n",
       "      <td>2.35</td>\n",
       "      <td>660</td>\n",
       "    </tr>\n",
       "    <tr>\n",
       "      <td>5042</td>\n",
       "      <td>Color</td>\n",
       "      <td>Jon Gunn</td>\n",
       "      <td>43.0</td>\n",
       "      <td>90.0</td>\n",
       "      <td>16.0</td>\n",
       "      <td>16.0</td>\n",
       "      <td>Brian Herzlinger</td>\n",
       "      <td>86.0</td>\n",
       "      <td>85222.0</td>\n",
       "      <td>Documentary</td>\n",
       "      <td>...</td>\n",
       "      <td>84.0</td>\n",
       "      <td>English</td>\n",
       "      <td>USA</td>\n",
       "      <td>PG</td>\n",
       "      <td>1100.0</td>\n",
       "      <td>2004.0</td>\n",
       "      <td>23.0</td>\n",
       "      <td>6.6</td>\n",
       "      <td>1.85</td>\n",
       "      <td>456</td>\n",
       "    </tr>\n",
       "  </tbody>\n",
       "</table>\n",
       "<p>5043 rows × 28 columns</p>\n",
       "</div>"
      ],
      "text/plain": [
       "      color      director_name  num_critic_for_reviews  duration  \\\n",
       "0     Color      James Cameron                   723.0     178.0   \n",
       "1     Color     Gore Verbinski                   302.0     169.0   \n",
       "2     Color         Sam Mendes                   602.0     148.0   \n",
       "3     Color  Christopher Nolan                   813.0     164.0   \n",
       "4       NaN        Doug Walker                     NaN       NaN   \n",
       "...     ...                ...                     ...       ...   \n",
       "5038  Color        Scott Smith                     1.0      87.0   \n",
       "5039  Color                NaN                    43.0      43.0   \n",
       "5040  Color   Benjamin Roberds                    13.0      76.0   \n",
       "5041  Color        Daniel Hsia                    14.0     100.0   \n",
       "5042  Color           Jon Gunn                    43.0      90.0   \n",
       "\n",
       "      director_facebook_likes  actor_3_facebook_likes      actor_2_name  \\\n",
       "0                         0.0                   855.0  Joel David Moore   \n",
       "1                       563.0                  1000.0     Orlando Bloom   \n",
       "2                         0.0                   161.0      Rory Kinnear   \n",
       "3                     22000.0                 23000.0    Christian Bale   \n",
       "4                       131.0                     NaN        Rob Walker   \n",
       "...                       ...                     ...               ...   \n",
       "5038                      2.0                   318.0     Daphne Zuniga   \n",
       "5039                      NaN                   319.0     Valorie Curry   \n",
       "5040                      0.0                     0.0     Maxwell Moody   \n",
       "5041                      0.0                   489.0     Daniel Henney   \n",
       "5042                     16.0                    16.0  Brian Herzlinger   \n",
       "\n",
       "      actor_1_facebook_likes        gross                           genres  \\\n",
       "0                     1000.0  760505847.0  Action|Adventure|Fantasy|Sci-Fi   \n",
       "1                    40000.0  309404152.0         Action|Adventure|Fantasy   \n",
       "2                    11000.0  200074175.0        Action|Adventure|Thriller   \n",
       "3                    27000.0  448130642.0                  Action|Thriller   \n",
       "4                      131.0          NaN                      Documentary   \n",
       "...                      ...          ...                              ...   \n",
       "5038                   637.0          NaN                     Comedy|Drama   \n",
       "5039                   841.0          NaN     Crime|Drama|Mystery|Thriller   \n",
       "5040                     0.0          NaN            Drama|Horror|Thriller   \n",
       "5041                   946.0      10443.0             Comedy|Drama|Romance   \n",
       "5042                    86.0      85222.0                      Documentary   \n",
       "\n",
       "      ... num_user_for_reviews language  country  content_rating       budget  \\\n",
       "0     ...               3054.0  English      USA           PG-13  237000000.0   \n",
       "1     ...               1238.0  English      USA           PG-13  300000000.0   \n",
       "2     ...                994.0  English       UK           PG-13  245000000.0   \n",
       "3     ...               2701.0  English      USA           PG-13  250000000.0   \n",
       "4     ...                  NaN      NaN      NaN             NaN          NaN   \n",
       "...   ...                  ...      ...      ...             ...          ...   \n",
       "5038  ...                  6.0  English   Canada             NaN          NaN   \n",
       "5039  ...                359.0  English      USA           TV-14          NaN   \n",
       "5040  ...                  3.0  English      USA             NaN       1400.0   \n",
       "5041  ...                  9.0  English      USA           PG-13          NaN   \n",
       "5042  ...                 84.0  English      USA              PG       1100.0   \n",
       "\n",
       "      title_year actor_2_facebook_likes imdb_score  aspect_ratio  \\\n",
       "0         2009.0                  936.0        7.9          1.78   \n",
       "1         2007.0                 5000.0        7.1          2.35   \n",
       "2         2015.0                  393.0        6.8          2.35   \n",
       "3         2012.0                23000.0        8.5          2.35   \n",
       "4            NaN                   12.0        7.1           NaN   \n",
       "...          ...                    ...        ...           ...   \n",
       "5038      2013.0                  470.0        7.7           NaN   \n",
       "5039         NaN                  593.0        7.5         16.00   \n",
       "5040      2013.0                    0.0        6.3           NaN   \n",
       "5041      2012.0                  719.0        6.3          2.35   \n",
       "5042      2004.0                   23.0        6.6          1.85   \n",
       "\n",
       "     movie_facebook_likes  \n",
       "0                   33000  \n",
       "1                       0  \n",
       "2                   85000  \n",
       "3                  164000  \n",
       "4                       0  \n",
       "...                   ...  \n",
       "5038                   84  \n",
       "5039                32000  \n",
       "5040                   16  \n",
       "5041                  660  \n",
       "5042                  456  \n",
       "\n",
       "[5043 rows x 28 columns]"
      ]
     },
     "execution_count": 6,
     "metadata": {},
     "output_type": "execute_result"
    }
   ],
   "source": [
    "movies = pd.read_csv(\"D:\\Desktop\\imdb assign\\Movie+Assignment+Data.csv\") \n",
    "movies"
   ]
  },
  {
   "cell_type": "markdown",
   "metadata": {},
   "source": [
    "-  ### Subtask 1.2: Inspect the dataframe\n",
    "\n",
    "Inspect the dataframe's columns, shapes, variable types etc."
   ]
  },
  {
   "cell_type": "code",
   "execution_count": 7,
   "metadata": {},
   "outputs": [
    {
     "name": "stdout",
     "output_type": "stream",
     "text": [
      "\n",
      "Check dataframe columns: \n",
      "Index(['color', 'director_name', 'num_critic_for_reviews', 'duration',\n",
      "       'director_facebook_likes', 'actor_3_facebook_likes', 'actor_2_name',\n",
      "       'actor_1_facebook_likes', 'gross', 'genres', 'actor_1_name',\n",
      "       'movie_title', 'num_voted_users', 'cast_total_facebook_likes',\n",
      "       'actor_3_name', 'facenumber_in_poster', 'plot_keywords',\n",
      "       'movie_imdb_link', 'num_user_for_reviews', 'language', 'country',\n",
      "       'content_rating', 'budget', 'title_year', 'actor_2_facebook_likes',\n",
      "       'imdb_score', 'aspect_ratio', 'movie_facebook_likes'],\n",
      "      dtype='object')\n",
      "\n",
      "Check dimensions of dataframe (rows vs columns): \n",
      "(5043, 28)\n",
      "\n",
      "Check variable types: \n",
      "color                         object\n",
      "director_name                 object\n",
      "num_critic_for_reviews       float64\n",
      "duration                     float64\n",
      "director_facebook_likes      float64\n",
      "actor_3_facebook_likes       float64\n",
      "actor_2_name                  object\n",
      "actor_1_facebook_likes       float64\n",
      "gross                        float64\n",
      "genres                        object\n",
      "actor_1_name                  object\n",
      "movie_title                   object\n",
      "num_voted_users                int64\n",
      "cast_total_facebook_likes      int64\n",
      "actor_3_name                  object\n",
      "facenumber_in_poster         float64\n",
      "plot_keywords                 object\n",
      "movie_imdb_link               object\n",
      "num_user_for_reviews         float64\n",
      "language                      object\n",
      "country                       object\n",
      "content_rating                object\n",
      "budget                       float64\n",
      "title_year                   float64\n",
      "actor_2_facebook_likes       float64\n",
      "imdb_score                   float64\n",
      "aspect_ratio                 float64\n",
      "movie_facebook_likes           int64\n",
      "dtype: object\n",
      "\n",
      "Check dataframe descriptive statistics: \n",
      "       num_critic_for_reviews     duration  director_facebook_likes  \\\n",
      "count             4993.000000  5028.000000              4939.000000   \n",
      "mean               140.194272   107.201074               686.509212   \n",
      "std                121.601675    25.197441              2813.328607   \n",
      "min                  1.000000     7.000000                 0.000000   \n",
      "25%                 50.000000    93.000000                 7.000000   \n",
      "50%                110.000000   103.000000                49.000000   \n",
      "75%                195.000000   118.000000               194.500000   \n",
      "max                813.000000   511.000000             23000.000000   \n",
      "\n",
      "       actor_3_facebook_likes  actor_1_facebook_likes         gross  \\\n",
      "count             5020.000000             5036.000000  4.159000e+03   \n",
      "mean               645.009761             6560.047061  4.846841e+07   \n",
      "std               1665.041728            15020.759120  6.845299e+07   \n",
      "min                  0.000000                0.000000  1.620000e+02   \n",
      "25%                133.000000              614.000000  5.340988e+06   \n",
      "50%                371.500000              988.000000  2.551750e+07   \n",
      "75%                636.000000            11000.000000  6.230944e+07   \n",
      "max              23000.000000           640000.000000  7.605058e+08   \n",
      "\n",
      "       num_voted_users  cast_total_facebook_likes  facenumber_in_poster  \\\n",
      "count     5.043000e+03                5043.000000           5030.000000   \n",
      "mean      8.366816e+04                9699.063851              1.371173   \n",
      "std       1.384853e+05               18163.799124              2.013576   \n",
      "min       5.000000e+00                   0.000000              0.000000   \n",
      "25%       8.593500e+03                1411.000000              0.000000   \n",
      "50%       3.435900e+04                3090.000000              1.000000   \n",
      "75%       9.630900e+04               13756.500000              2.000000   \n",
      "max       1.689764e+06              656730.000000             43.000000   \n",
      "\n",
      "       num_user_for_reviews        budget   title_year  \\\n",
      "count           5022.000000  4.551000e+03  4935.000000   \n",
      "mean             272.770808  3.975262e+07  2002.470517   \n",
      "std              377.982886  2.061149e+08    12.474599   \n",
      "min                1.000000  2.180000e+02  1916.000000   \n",
      "25%               65.000000  6.000000e+06  1999.000000   \n",
      "50%              156.000000  2.000000e+07  2005.000000   \n",
      "75%              326.000000  4.500000e+07  2011.000000   \n",
      "max             5060.000000  1.221550e+10  2016.000000   \n",
      "\n",
      "       actor_2_facebook_likes   imdb_score  aspect_ratio  movie_facebook_likes  \n",
      "count             5030.000000  5043.000000   4714.000000           5043.000000  \n",
      "mean              1651.754473     6.442138      2.220403           7525.964505  \n",
      "std               4042.438863     1.125116      1.385113          19320.445110  \n",
      "min                  0.000000     1.600000      1.180000              0.000000  \n",
      "25%                281.000000     5.800000      1.850000              0.000000  \n",
      "50%                595.000000     6.600000      2.350000            166.000000  \n",
      "75%                918.000000     7.200000      2.350000           3000.000000  \n",
      "max             137000.000000     9.500000     16.000000         349000.000000  \n",
      "   color      director_name  num_critic_for_reviews  duration  \\\n",
      "0  Color      James Cameron                   723.0     178.0   \n",
      "1  Color     Gore Verbinski                   302.0     169.0   \n",
      "2  Color         Sam Mendes                   602.0     148.0   \n",
      "3  Color  Christopher Nolan                   813.0     164.0   \n",
      "4    NaN        Doug Walker                     NaN       NaN   \n",
      "\n",
      "   director_facebook_likes  actor_3_facebook_likes      actor_2_name  \\\n",
      "0                      0.0                   855.0  Joel David Moore   \n",
      "1                    563.0                  1000.0     Orlando Bloom   \n",
      "2                      0.0                   161.0      Rory Kinnear   \n",
      "3                  22000.0                 23000.0    Christian Bale   \n",
      "4                    131.0                     NaN        Rob Walker   \n",
      "\n",
      "   actor_1_facebook_likes        gross                           genres  ...  \\\n",
      "0                  1000.0  760505847.0  Action|Adventure|Fantasy|Sci-Fi  ...   \n",
      "1                 40000.0  309404152.0         Action|Adventure|Fantasy  ...   \n",
      "2                 11000.0  200074175.0        Action|Adventure|Thriller  ...   \n",
      "3                 27000.0  448130642.0                  Action|Thriller  ...   \n",
      "4                   131.0          NaN                      Documentary  ...   \n",
      "\n",
      "  num_user_for_reviews language  country  content_rating       budget  \\\n",
      "0               3054.0  English      USA           PG-13  237000000.0   \n",
      "1               1238.0  English      USA           PG-13  300000000.0   \n",
      "2                994.0  English       UK           PG-13  245000000.0   \n",
      "3               2701.0  English      USA           PG-13  250000000.0   \n",
      "4                  NaN      NaN      NaN             NaN          NaN   \n",
      "\n",
      "   title_year actor_2_facebook_likes imdb_score  aspect_ratio  \\\n",
      "0      2009.0                  936.0        7.9          1.78   \n",
      "1      2007.0                 5000.0        7.1          2.35   \n",
      "2      2015.0                  393.0        6.8          2.35   \n",
      "3      2012.0                23000.0        8.5          2.35   \n",
      "4         NaN                   12.0        7.1           NaN   \n",
      "\n",
      "  movie_facebook_likes  \n",
      "0                33000  \n",
      "1                    0  \n",
      "2                85000  \n",
      "3               164000  \n",
      "4                    0  \n",
      "\n",
      "[5 rows x 28 columns]\n",
      "      color     director_name  num_critic_for_reviews  duration  \\\n",
      "5038  Color       Scott Smith                     1.0      87.0   \n",
      "5039  Color               NaN                    43.0      43.0   \n",
      "5040  Color  Benjamin Roberds                    13.0      76.0   \n",
      "5041  Color       Daniel Hsia                    14.0     100.0   \n",
      "5042  Color          Jon Gunn                    43.0      90.0   \n",
      "\n",
      "      director_facebook_likes  actor_3_facebook_likes      actor_2_name  \\\n",
      "5038                      2.0                   318.0     Daphne Zuniga   \n",
      "5039                      NaN                   319.0     Valorie Curry   \n",
      "5040                      0.0                     0.0     Maxwell Moody   \n",
      "5041                      0.0                   489.0     Daniel Henney   \n",
      "5042                     16.0                    16.0  Brian Herzlinger   \n",
      "\n",
      "      actor_1_facebook_likes    gross                        genres  ...  \\\n",
      "5038                   637.0      NaN                  Comedy|Drama  ...   \n",
      "5039                   841.0      NaN  Crime|Drama|Mystery|Thriller  ...   \n",
      "5040                     0.0      NaN         Drama|Horror|Thriller  ...   \n",
      "5041                   946.0  10443.0          Comedy|Drama|Romance  ...   \n",
      "5042                    86.0  85222.0                   Documentary  ...   \n",
      "\n",
      "     num_user_for_reviews language  country  content_rating  budget  \\\n",
      "5038                  6.0  English   Canada             NaN     NaN   \n",
      "5039                359.0  English      USA           TV-14     NaN   \n",
      "5040                  3.0  English      USA             NaN  1400.0   \n",
      "5041                  9.0  English      USA           PG-13     NaN   \n",
      "5042                 84.0  English      USA              PG  1100.0   \n",
      "\n",
      "      title_year actor_2_facebook_likes imdb_score  aspect_ratio  \\\n",
      "5038      2013.0                  470.0        7.7           NaN   \n",
      "5039         NaN                  593.0        7.5         16.00   \n",
      "5040      2013.0                    0.0        6.3           NaN   \n",
      "5041      2012.0                  719.0        6.3          2.35   \n",
      "5042      2004.0                   23.0        6.6          1.85   \n",
      "\n",
      "     movie_facebook_likes  \n",
      "5038                   84  \n",
      "5039                32000  \n",
      "5040                   16  \n",
      "5041                  660  \n",
      "5042                  456  \n",
      "\n",
      "[5 rows x 28 columns]\n"
     ]
    }
   ],
   "source": [
    "# Write your code for inspection here\n",
    "## Basic data exploration ##\n",
    "\n",
    "# check columns\n",
    "print(\"\\nCheck dataframe columns: \")\n",
    "print(movies.columns)\n",
    "\n",
    "print(\"\\nCheck dimensions of dataframe (rows vs columns): \")\n",
    "print(movies.shape)\n",
    "\n",
    "print(\"\\nCheck variable types: \")\n",
    "print(movies.dtypes)\n",
    "\n",
    "print(\"\\nCheck dataframe descriptive statistics: \")\n",
    "print(movies.describe())\n",
    "\n",
    "# get first 5 rows and check headers\n",
    "print(movies.head(5))\n",
    "\n",
    "# get last 5 rows to look for summary or missing info \n",
    "print(movies.tail(5))"
   ]
  },
  {
   "cell_type": "markdown",
   "metadata": {},
   "source": [
    "## Task 2: Cleaning the Data\n",
    "\n",
    "-  ### Subtask 2.1: Inspect Null values\n",
    "\n",
    "Find out the number of Null values in all the columns and rows. Also, find the percentage of Null values in each column. Round off the percentages upto two decimal places."
   ]
  },
  {
   "cell_type": "code",
   "execution_count": 8,
   "metadata": {},
   "outputs": [
    {
     "name": "stdout",
     "output_type": "stream",
     "text": [
      "\n",
      "Number of Null values in all the columns:\n",
      "color                         19\n",
      "director_name                104\n",
      "num_critic_for_reviews        50\n",
      "duration                      15\n",
      "director_facebook_likes      104\n",
      "actor_3_facebook_likes        23\n",
      "actor_2_name                  13\n",
      "actor_1_facebook_likes         7\n",
      "gross                        884\n",
      "genres                         0\n",
      "actor_1_name                   7\n",
      "movie_title                    0\n",
      "num_voted_users                0\n",
      "cast_total_facebook_likes      0\n",
      "actor_3_name                  23\n",
      "facenumber_in_poster          13\n",
      "plot_keywords                153\n",
      "movie_imdb_link                0\n",
      "num_user_for_reviews          21\n",
      "language                      12\n",
      "country                        5\n",
      "content_rating               303\n",
      "budget                       492\n",
      "title_year                   108\n",
      "actor_2_facebook_likes        13\n",
      "imdb_score                     0\n",
      "aspect_ratio                 329\n",
      "movie_facebook_likes           0\n",
      "dtype: int64\n"
     ]
    }
   ],
   "source": [
    "# Write your code for column-wise null count here\n",
    "print('\\nNumber of Null values in all the columns:')\n",
    "print(movies.isnull().sum(axis = 0))\n"
   ]
  },
  {
   "cell_type": "code",
   "execution_count": 9,
   "metadata": {},
   "outputs": [
    {
     "name": "stdout",
     "output_type": "stream",
     "text": [
      "\n",
      "\n",
      "Number of Null values in all the rows:\n",
      "0        0\n",
      "1        0\n",
      "2        0\n",
      "3        0\n",
      "4       14\n",
      "        ..\n",
      "5038     4\n",
      "5039     5\n",
      "5040     4\n",
      "5041     2\n",
      "5042     0\n",
      "Length: 5043, dtype: int64\n"
     ]
    }
   ],
   "source": [
    "# Write your code for row-wise null count here\n",
    "print('\\n\\nNumber of Null values in all the rows:')\n",
    "print(movies.isnull().sum(axis = 1))"
   ]
  },
  {
   "cell_type": "code",
   "execution_count": 10,
   "metadata": {},
   "outputs": [
    {
     "name": "stdout",
     "output_type": "stream",
     "text": [
      "\n",
      "Percentage of Null values in each column. Rounded off the percentages upto two decimal places:\n",
      "color                         0.38\n",
      "director_name                 2.06\n",
      "num_critic_for_reviews        0.99\n",
      "duration                      0.30\n",
      "director_facebook_likes       2.06\n",
      "actor_3_facebook_likes        0.46\n",
      "actor_2_name                  0.26\n",
      "actor_1_facebook_likes        0.14\n",
      "gross                        17.53\n",
      "genres                        0.00\n",
      "actor_1_name                  0.14\n",
      "movie_title                   0.00\n",
      "num_voted_users               0.00\n",
      "cast_total_facebook_likes     0.00\n",
      "actor_3_name                  0.46\n",
      "facenumber_in_poster          0.26\n",
      "plot_keywords                 3.03\n",
      "movie_imdb_link               0.00\n",
      "num_user_for_reviews          0.42\n",
      "language                      0.24\n",
      "country                       0.10\n",
      "content_rating                6.01\n",
      "budget                        9.76\n",
      "title_year                    2.14\n",
      "actor_2_facebook_likes        0.26\n",
      "imdb_score                    0.00\n",
      "aspect_ratio                  6.52\n",
      "movie_facebook_likes          0.00\n",
      "dtype: float64\n"
     ]
    }
   ],
   "source": [
    "# Write your code for column-wise null percentages here\n",
    "\n",
    "print('\\nPercentage of Null values in each column. Rounded off the percentages upto two decimal places:')\n",
    "print((movies.isnull().sum()*100/len(movies)).round(decimals=2))"
   ]
  },
  {
   "cell_type": "markdown",
   "metadata": {},
   "source": [
    "-  ### Subtask 2.2: Drop unecessary columns\n",
    "\n",
    "For this assignment, you will mostly be analyzing the movies with respect to the ratings, gross collection, popularity of movies, etc. So many of the columns in this dataframe are not required. So it is advised to drop the following columns.\n",
    "-  color\n",
    "-  director_facebook_likes\n",
    "-  actor_1_facebook_likes\n",
    "-  actor_2_facebook_likes\n",
    "-  actor_3_facebook_likes\n",
    "-  actor_2_name\n",
    "-  cast_total_facebook_likes\n",
    "-  actor_3_name\n",
    "-  duration\n",
    "-  facenumber_in_poster\n",
    "-  content_rating\n",
    "-  country\n",
    "-  movie_imdb_link\n",
    "-  aspect_ratio\n",
    "-  plot_keywords"
   ]
  },
  {
   "cell_type": "code",
   "execution_count": 11,
   "metadata": {},
   "outputs": [
    {
     "name": "stdout",
     "output_type": "stream",
     "text": [
      "\n",
      "Check dimensions after dropping columns (rows vs columns): \n",
      "(5043, 13)\n"
     ]
    }
   ],
   "source": [
    "# Write your code for dropping the columns here. It is advised to keep inspecting the dataframe after each set of operations \n",
    "# drop columns\n",
    "movies = movies.drop(['color','director_facebook_likes', 'actor_1_facebook_likes', 'actor_2_facebook_likes', 'actor_3_facebook_likes', \n",
    "                      'actor_2_name', 'cast_total_facebook_likes', 'actor_3_name', 'duration', 'facenumber_in_poster', 'content_rating', \n",
    "                      'country', 'movie_imdb_link', 'aspect_ratio', 'plot_keywords'], axis=1)\n",
    "\n",
    "print(\"\\nCheck dimensions after dropping columns (rows vs columns): \")\n",
    "print(movies.shape)\n"
   ]
  },
  {
   "cell_type": "markdown",
   "metadata": {},
   "source": [
    "-  ### Subtask 2.3: Drop unecessary rows using columns with high Null percentages\n",
    "\n",
    "Now, on inspection you might notice that some columns have large percentage (greater than 5%) of Null values. Drop all the rows which have Null values for such columns."
   ]
  },
  {
   "cell_type": "code",
   "execution_count": 12,
   "metadata": {},
   "outputs": [
    {
     "name": "stdout",
     "output_type": "stream",
     "text": [
      "5043\n",
      "\n",
      "Percentage of Null values in each column. Rounded off the percentages upto two decimal places:\n",
      "director_name              2.06\n",
      "num_critic_for_reviews     0.99\n",
      "gross                     17.53\n",
      "genres                     0.00\n",
      "actor_1_name               0.14\n",
      "movie_title                0.00\n",
      "num_voted_users            0.00\n",
      "num_user_for_reviews       0.42\n",
      "language                   0.24\n",
      "budget                     9.76\n",
      "title_year                 2.14\n",
      "imdb_score                 0.00\n",
      "movie_facebook_likes       0.00\n",
      "dtype: float64\n",
      "\n",
      "\n",
      "(3891, 13)\n"
     ]
    }
   ],
   "source": [
    "# Write your code for dropping the rows here\n",
    "print(len(movies))\n",
    "\n",
    "print('\\nPercentage of Null values in each column. Rounded off the percentages upto two decimal places:')\n",
    "print((movies.isnull().sum()*100/len(movies)).round(decimals=2))\n",
    "\n",
    "print(\"\\n\")\n",
    "null_percentaje = movies.isnull().sum() / len(movies)\n",
    "columns_high_null = null_percentaje[null_percentaje > 0.05].index\n",
    "\n",
    "movies = movies.dropna(how='any', subset=columns_high_null, axis=0)\n",
    "\n",
    "print(movies.shape)"
   ]
  },
  {
   "cell_type": "markdown",
   "metadata": {},
   "source": [
    "-  ### Subtask 2.4: Fill NaN values\n",
    "\n",
    "You might notice that the `language` column has some NaN values. Here, on inspection, you will see that it is safe to replace all the missing values with `'English'`."
   ]
  },
  {
   "cell_type": "code",
   "execution_count": 13,
   "metadata": {},
   "outputs": [
    {
     "name": "stdout",
     "output_type": "stream",
     "text": [
      "\n",
      "NaN values for language column before replace:\n",
      "3\n",
      "\n",
      "NaN values for language column after replace:\n",
      "0\n"
     ]
    }
   ],
   "source": [
    "# Write your code for filling the NaN values in the 'language' column here\n",
    "print('\\nNaN values for language column before replace:')\n",
    "print(sum(pd.isnull(movies['language'])))\n",
    "\n",
    "movies['language'] = movies['language'].fillna('English')\n",
    "print('\\nNaN values for language column after replace:')\n",
    "print(sum(pd.isnull(movies['language'])))"
   ]
  },
  {
   "cell_type": "markdown",
   "metadata": {},
   "source": [
    "-  ### Subtask 2.5: Check the number of retained rows\n",
    "\n",
    "You might notice that two of the columns viz. `num_critic_for_reviews` and `actor_1_name` have small percentages of NaN values left. You can let these columns as it is for now. Check the number and percentage of the rows retained after completing all the tasks above."
   ]
  },
  {
   "cell_type": "code",
   "execution_count": 14,
   "metadata": {},
   "outputs": [
    {
     "name": "stdout",
     "output_type": "stream",
     "text": [
      "\n",
      "Check the number of retained rows: \n",
      "(3891, 13)\n",
      "\n",
      "Percentage retained: \n",
      "77.15645449137418\n"
     ]
    }
   ],
   "source": [
    "# Write your code for checking number of retained rows here\n",
    "print(\"\\nCheck the number of retained rows: \")\n",
    "print(movies.shape)\n",
    "\n",
    "print(\"\\nPercentage retained: \")\n",
    "print(len(movies)/5043*100)\n",
    "\n"
   ]
  },
  {
   "cell_type": "markdown",
   "metadata": {},
   "source": [
    "**Checkpoint 1:** You might have noticed that we still have around `77%` of the rows!"
   ]
  },
  {
   "cell_type": "markdown",
   "metadata": {},
   "source": [
    "## Task 3: Data Analysis\n",
    "\n",
    "-  ### Subtask 3.1: Change the unit of columns\n",
    "\n",
    "Convert the unit of the `budget` and `gross` columns from `$` to `million $`."
   ]
  },
  {
   "cell_type": "code",
   "execution_count": 15,
   "metadata": {},
   "outputs": [
    {
     "name": "stdout",
     "output_type": "stream",
     "text": [
      "\n",
      "Budget and gross after conversion:\n",
      "         gross\n",
      "0   760.505847\n",
      "1   309.404152\n",
      "2   200.074175\n",
      "3   448.130642\n",
      "5    73.058679\n",
      "6   336.530303\n",
      "7   200.807262\n",
      "8   458.991599\n",
      "9   301.956980\n",
      "10  330.249062\n",
      "    budget\n",
      "0    237.0\n",
      "1    300.0\n",
      "2    245.0\n",
      "3    250.0\n",
      "5    263.7\n",
      "6    258.0\n",
      "7    260.0\n",
      "8    250.0\n",
      "9    250.0\n",
      "10   250.0\n"
     ]
    }
   ],
   "source": [
    "# Write your code for unit conversion here\n",
    "movies['budget'] = movies.apply(lambda row: row['budget'] / 1000000, axis=1)\n",
    "movies['gross'] = movies.apply(lambda row: row['gross'] / 1000000, axis=1)\n",
    "\n",
    "print('\\nBudget and gross after conversion:')\n",
    "print(movies.iloc[:10, 2:3])\n",
    "print(movies.iloc[:10, 9:10])"
   ]
  },
  {
   "cell_type": "markdown",
   "metadata": {},
   "source": [
    "-  ### Subtask 3.2: Find the movies with highest profit\n",
    "\n",
    "    1. Create a new column called `profit` which contains the difference of the two columns: `gross` and `budget`.\n",
    "    2. Sort the dataframe using the `profit` column as reference.\n",
    "    3. Plot `profit` (y-axis) vs `budget` (x- axis) and observe the outliers using the appropriate chart type.\n",
    "    4. Extract the top ten profiting movies in descending order and store them in a new dataframe - `top10`"
   ]
  },
  {
   "cell_type": "code",
   "execution_count": 16,
   "metadata": {},
   "outputs": [
    {
     "name": "stdout",
     "output_type": "stream",
     "text": [
      "\n",
      "Movies before sort:\n",
      "                                    movie_title      profit\n",
      "0                                       Avatar   523.505847\n",
      "1     Pirates of the Caribbean: At World's End     9.404152\n",
      "2                                      Spectre   -44.925825\n",
      "3                        The Dark Knight Rises   198.130642\n",
      "5                                  John Carter  -190.641321\n",
      "...                                         ...         ...\n",
      "5033                                    Primer     0.417760\n",
      "5034                                    Cavite     0.063071\n",
      "5035                               El Mariachi     2.033920\n",
      "5037                                 Newlyweds    -0.004416\n",
      "5042                         My Date with Drew     0.084122\n",
      "\n",
      "[3891 rows x 2 columns]\n"
     ]
    }
   ],
   "source": [
    "# Write your code for creating the profit column here\n",
    "movies['profit'] = movies['gross'] - movies['budget']\n",
    "\n",
    "print('\\nMovies before sort:')\n",
    "print(movies[['movie_title', 'profit']])"
   ]
  },
  {
   "cell_type": "code",
   "execution_count": 17,
   "metadata": {},
   "outputs": [
    {
     "name": "stdout",
     "output_type": "stream",
     "text": [
      "\n",
      "Movies after sort:\n",
      "            profit        budget\n",
      "0       523.505847    237.000000\n",
      "29      502.177271    150.000000\n",
      "26      458.672302    200.000000\n",
      "3024    449.935665     11.000000\n",
      "3080    424.449459     10.500000\n",
      "...            ...           ...\n",
      "2334  -2127.109510   2127.519898\n",
      "2323  -2397.701809   2400.000000\n",
      "3005  -2499.804112   2500.000000\n",
      "3859  -4199.788333   4200.000000\n",
      "2988 -12213.298588  12215.500000\n",
      "\n",
      "[3891 rows x 2 columns]\n"
     ]
    }
   ],
   "source": [
    "# Write your code for sorting the dataframe here\n",
    "movies = movies.sort_values(by=['profit'], ascending=False)\n",
    "\n",
    "print('\\nMovies after sort:')\n",
    "print(movies[['profit', 'budget']])\n",
    "\n"
   ]
  },
  {
   "cell_type": "code",
   "execution_count": 18,
   "metadata": {},
   "outputs": [
    {
     "data": {
      "image/png": "[encoded data removed]",
      "text/plain": [
       "<Figure size 432x288 with 1 Axes>"
      ]
     },
     "metadata": {
      "needs_background": "light"
     },
     "output_type": "display_data"
    }
   ],
   "source": [
    "# Write code for profit vs budget plot here\n",
    "movies.plot(kind='scatter', x='budget', y='profit', color='blue', title=\"Movies profit vs budget\", s=30, alpha=.2)\n",
    "plt.show()"
   ]
  },
  {
   "cell_type": "code",
   "execution_count": 19,
   "metadata": {},
   "outputs": [
    {
     "name": "stdout",
     "output_type": "stream",
     "text": [
      "\n",
      "Top 10 Movies by profit:\n",
      "                                     movie_title      profit\n",
      "0                                        Avatar   523.505847\n",
      "29                               Jurassic World   502.177271\n",
      "26                                      Titanic   458.672302\n",
      "3024         Star Wars: Episode IV - A New Hope   449.935665\n",
      "3080                 E.T. the Extra-Terrestrial   424.449459\n",
      "794                                The Avengers   403.279547\n",
      "17                                 The Avengers   403.279547\n",
      "509                               The Lion King   377.783777\n",
      "240   Star Wars: Episode I - The Phantom Menace   359.544677\n",
      "66                              The Dark Knight   348.316061\n"
     ]
    }
   ],
   "source": [
    " # Write your code to get the top 10 profiting movies here\n",
    "top10 = movies.head(10)\n",
    "\n",
    "print('\\nTop 10 Movies by profit:')\n",
    "print(top10[['movie_title', 'profit']])"
   ]
  },
  {
   "cell_type": "markdown",
   "metadata": {},
   "source": [
    "-  ### Subtask 3.3: Drop duplicate values\n",
    "\n",
    "After you found out the top 10 profiting movies, you might have noticed a duplicate value. So, it seems like the dataframe has duplicate values as well. Drop the duplicate values from the dataframe and repeat `Subtask 3.2`. Note that the same `movie_title` can be there in different languages. "
   ]
  },
  {
   "cell_type": "code",
   "execution_count": 20,
   "metadata": {},
   "outputs": [
    {
     "name": "stdout",
     "output_type": "stream",
     "text": [
      "\n",
      "Count duplicate values: \n",
      "35\n",
      "\n",
      "Check duplicate rows: \n",
      "\n",
      "Check duplicate rows after drop: \n",
      "0\n"
     ]
    }
   ],
   "source": [
    "# Write your code for dropping duplicate values here\n",
    "print('\\nCount duplicate values: ')\n",
    "print(len(movies)-len(movies.drop_duplicates()))\n",
    "\n",
    "print('\\nCheck duplicate rows: ')\n",
    "movies[movies.duplicated(keep=False)]\n",
    "\n",
    "# remove duplicate values\n",
    "movies = movies.drop_duplicates()\n",
    "\n",
    "print('\\nCheck duplicate rows after drop: ')\n",
    "print(len(movies)-len(movies.drop_duplicates()))\n",
    "\n"
   ]
  },
  {
   "cell_type": "code",
   "execution_count": 21,
   "metadata": {},
   "outputs": [
    {
     "name": "stdout",
     "output_type": "stream",
     "text": [
      "\n",
      "Movies before sort:\n",
      "                              movie_title        profit\n",
      "0                                 Avatar     523.505847\n",
      "29                        Jurassic World     502.177271\n",
      "26                               Titanic     458.672302\n",
      "3024  Star Wars: Episode IV - A New Hope     449.935665\n",
      "3080          E.T. the Extra-Terrestrial     424.449459\n",
      "...                                   ...           ...\n",
      "2334                            Steamboy   -2127.109510\n",
      "2323                   Princess Mononoke   -2397.701809\n",
      "3005                            Fateless   -2499.804112\n",
      "3859                      Lady Vengeance   -4199.788333\n",
      "2988                            The Host  -12213.298588\n",
      "\n",
      "[3856 rows x 2 columns]\n",
      "\n",
      "Movies after sort:\n",
      "            profit        budget\n",
      "0       523.505847    237.000000\n",
      "29      502.177271    150.000000\n",
      "26      458.672302    200.000000\n",
      "3024    449.935665     11.000000\n",
      "3080    424.449459     10.500000\n",
      "...            ...           ...\n",
      "2334  -2127.109510   2127.519898\n",
      "2323  -2397.701809   2400.000000\n",
      "3005  -2499.804112   2500.000000\n",
      "3859  -4199.788333   4200.000000\n",
      "2988 -12213.298588  12215.500000\n",
      "\n",
      "[3856 rows x 2 columns]\n"
     ]
    },
    {
     "data": {
      "image/png": "[encoded data removed]",
      "text/plain": [
       "<Figure size 432x288 with 1 Axes>"
      ]
     },
     "metadata": {
      "needs_background": "light"
     },
     "output_type": "display_data"
    },
    {
     "name": "stdout",
     "output_type": "stream",
     "text": [
      "\n",
      "Top 10 Movies by profit:\n",
      "                                     movie_title      profit  \\\n",
      "0                                        Avatar   523.505847   \n",
      "29                               Jurassic World   502.177271   \n",
      "26                                      Titanic   458.672302   \n",
      "3024         Star Wars: Episode IV - A New Hope   449.935665   \n",
      "3080                 E.T. the Extra-Terrestrial   424.449459   \n",
      "794                                The Avengers   403.279547   \n",
      "509                               The Lion King   377.783777   \n",
      "240   Star Wars: Episode I - The Phantom Menace   359.544677   \n",
      "66                              The Dark Knight   348.316061   \n",
      "439                            The Hunger Games   329.999255   \n",
      "\n",
      "          director_name  \n",
      "0         James Cameron  \n",
      "29      Colin Trevorrow  \n",
      "26        James Cameron  \n",
      "3024       George Lucas  \n",
      "3080   Steven Spielberg  \n",
      "794         Joss Whedon  \n",
      "509        Roger Allers  \n",
      "240        George Lucas  \n",
      "66    Christopher Nolan  \n",
      "439           Gary Ross  \n"
     ]
    }
   ],
   "source": [
    "# Write code for repeating subtask 2 here\n",
    "# Write your code for creating the profit column here\n",
    "movies['profit'] = movies['gross'] - movies['budget']\n",
    "\n",
    "print('\\nMovies before sort:')\n",
    "print(movies[['movie_title', 'profit']])\n",
    "\n",
    "# Write your code for sorting the dataframe here\n",
    "movies = movies.sort_values(by=['profit'], ascending=False)\n",
    "\n",
    "print('\\nMovies after sort:')\n",
    "print(movies[['profit', 'budget']])\n",
    "\n",
    "# Write code for profit vs budget plot here\n",
    "movies.plot(kind='scatter', x='budget', y='profit', color='blue', title=\"Movies profit vs budget\", s=30, alpha=.2)\n",
    "plt.show()\n",
    "\n",
    "# Extract the top ten profiting movies in descending order and store them in a new dataframe - top10\n",
    "top10 = movies.head(10)\n",
    "\n",
    "print('\\nTop 10 Movies by profit:')\n",
    "print(top10[['movie_title', 'profit', 'director_name']])"
   ]
  },
  {
   "cell_type": "markdown",
   "metadata": {},
   "source": [
    "**Checkpoint 2:** You might spot two movies directed by `James Cameron` in the list."
   ]
  },
  {
   "cell_type": "markdown",
   "metadata": {},
   "source": [
    "-  ### Subtask 3.4: Find IMDb Top 250\n",
    "\n",
    "    1. Create a new dataframe `IMDb_Top_250` and store the top 250 movies with the highest IMDb Rating (corresponding to the column: `imdb_score`). Also make sure that for all of these movies, the `num_voted_users` is greater than 25,000.\n",
    "Also add a `Rank` column containing the values 1 to 250 indicating the ranks of the corresponding films.\n",
    "    2. Extract all the movies in the `IMDb_Top_250` dataframe which are not in the English language and store them in a new dataframe named `Top_Foreign_Lang_Film`."
   ]
  },
  {
   "cell_type": "code",
   "execution_count": 23,
   "metadata": {},
   "outputs": [
    {
     "name": "stdout",
     "output_type": "stream",
     "text": [
      "      Rank  imdb_score  num_voted_users\n",
      "1937     1         9.3          1689764\n",
      "3466     2         9.2          1155770\n",
      "2837     3         9.0           790926\n",
      "66       4         9.0          1676169\n",
      "339      5         8.9          1215718\n",
      "...    ...         ...              ...\n",
      "4640   246         7.9            44763\n",
      "2492   247         7.9           157857\n",
      "4821   248         7.9           157863\n",
      "639    249         7.9           133526\n",
      "3029   250         7.9           275869\n",
      "\n",
      "[250 rows x 3 columns]\n"
     ]
    }
   ],
   "source": [
    "# Write your code for extracting the top 250 movies as per the IMDb score here. Make sure that you store it in a new dataframe \n",
    "# and name that dataframe as 'IMDb_Top_250'\n",
    "voted_users_greater_25k = (movies['num_voted_users'] > 25000)\n",
    "IMDb_Top_250 = movies[voted_users_greater_25k]\n",
    "\n",
    "IMDb_Top_250 = IMDb_Top_250.sort_values(by=['imdb_score'], ascending=False).head(250)\n",
    "\n",
    "IMDb_Top_250['Rank'] = range(1, 251)\n",
    "\n",
    "print(IMDb_Top_250[['Rank', 'imdb_score', 'num_voted_users']])\n"
   ]
  },
  {
   "cell_type": "code",
   "execution_count": 24,
   "metadata": {},
   "outputs": [
    {
     "name": "stdout",
     "output_type": "stream",
     "text": [
      "                              movie_title    language  imdb_score  Rank\n",
      "4498      The Good, the Bad and the Ugly      Italian         8.9     7\n",
      "4029                         City of God   Portuguese         8.7    15\n",
      "4747                       Seven Samurai     Japanese         8.7    17\n",
      "2373                       Spirited Away     Japanese         8.6    26\n",
      "4921                  Children of Heaven      Persian         8.5    43\n",
      "4259                 The Lives of Others       German         8.5    46\n",
      "1329            Baahubali: The Beginning       Telugu         8.4    47\n",
      "4659                        A Separation      Persian         8.4    49\n",
      "1298                              Amélie       French         8.4    52\n",
      "4105                              Oldboy       Korean         8.4    57\n",
      "2323                   Princess Mononoke     Japanese         8.4    58\n",
      "2970                            Das Boot       German         8.4    60\n",
      "2734                          Metropolis       German         8.3    68\n",
      "4033                            The Hunt       Danish         8.3    70\n",
      "2829                            Downfall       German         8.3    74\n",
      "3550                           Incendies       French         8.2    88\n",
      "4000            The Secret in Their Eyes      Spanish         8.2    96\n",
      "2551                     Pan's Labyrinth      Spanish         8.2   104\n",
      "2047                Howl's Moving Castle     Japanese         8.2   107\n",
      "3553                         Elite Squad   Portuguese         8.1   109\n",
      "3423                               Akira     Japanese         8.1   112\n",
      "2914  Tae Guk Gi: The Brotherhood of War       Korean         8.1   123\n",
      "4461                     The Celebration       Danish         8.1   125\n",
      "4267                       Amores Perros      Spanish         8.1   147\n",
      "2830                      The Sea Inside      Spanish         8.1   152\n",
      "4284                   Waltz with Bashir       Hebrew         8.0   157\n",
      "3456                          Persepolis       French         8.0   163\n",
      "3344                     My Name Is Khan        Hindi         8.0   166\n",
      "4897                A Fistful of Dollars      Italian         8.0   182\n",
      "4144                     Central Station   Portuguese         8.0   200\n",
      "3264                               Amour       French         7.9   206\n",
      "2863               Letters from Iwo Jima     Japanese         7.9   208\n",
      "2605      Crouching Tiger, Hidden Dragon     Mandarin         7.9   211\n",
      "3510                          Veer-Zaara        Hindi         7.9   227\n",
      "4415                         Nine Queens      Spanish         7.9   238\n",
      "3677                          The Chorus       French         7.9   241\n",
      "2493                                Hero     Mandarin         7.9   242\n",
      "4640        4 Months, 3 Weeks and 2 Days     Romanian         7.9   246\n"
     ]
    }
   ],
   "source": [
    "# Extract all the movies in the IMDb_Top_250 dataframe which are not in the English language and store them in a new dataframe named Top_Foreign_Lang_Film.\n",
    "top_non_english_films = (IMDb_Top_250['language'] != 'English')\n",
    "\n",
    "Top_Foreign_Lang_Film = IMDb_Top_250[top_non_english_films]\n",
    "\n",
    "print(Top_Foreign_Lang_Film[['movie_title', 'language', 'imdb_score', 'Rank']])"
   ]
  },
  {
   "cell_type": "markdown",
   "metadata": {},
   "source": [
    "**Checkpoint 3:** Can you spot `Veer-Zaara` in the dataframe?"
   ]
  },
  {
   "cell_type": "markdown",
   "metadata": {},
   "source": [
    "- ### Subtask 3.5: Find the best directors\n",
    "\n",
    "    1. Group the dataframe using the `director_name` column.\n",
    "    2. Find out the top 10 directors for whom the mean of `imdb_score` is the highest and store them in a new dataframe `top10director`.  Incase of a tie in IMDb score between two directors, sort them alphabetically. "
   ]
  },
  {
   "cell_type": "code",
   "execution_count": 25,
   "metadata": {},
   "outputs": [
    {
     "name": "stdout",
     "output_type": "stream",
     "text": [
      "              director_name  imdb_score\n",
      "216         Charles Chaplin    8.600000\n",
      "1675              Tony Kaye    8.600000\n",
      "45         Alfred Hitchcock    8.500000\n",
      "302         Damien Chazelle    8.500000\n",
      "1017           Majid Majidi    8.500000\n",
      "1440             Ron Fricke    8.500000\n",
      "1498           Sergio Leone    8.433333\n",
      "260       Christopher Nolan    8.425000\n",
      "103          Asghar Farhadi    8.400000\n",
      "1035  Marius A. Markevicius    8.400000\n"
     ]
    }
   ],
   "source": [
    "# Write your code for extracting the top 10 directors here\n",
    "top10director = movies.groupby('director_name')['imdb_score'].mean().to_frame().reset_index().sort_values(by=['imdb_score', 'director_name' ],ascending =[False,True]).head(10)\n",
    "\n",
    "print(top10director)"
   ]
  },
  {
   "cell_type": "markdown",
   "metadata": {},
   "source": [
    "**Checkpoint 4:** No surprises that `Damien Chazelle` (director of Whiplash and La La Land) is in this list."
   ]
  },
  {
   "cell_type": "markdown",
   "metadata": {},
   "source": [
    "-  ### Subtask 3.6: Find popular genres\n",
    "\n",
    "You might have noticed the `genres` column in the dataframe with all the genres of the movies seperated by a pipe (`|`). Out of all the movie genres, the first two are most significant for any film.\n",
    "\n",
    "1. Extract the first two genres from the `genres` column and store them in two new columns: `genre_1` and `genre_2`. Some of the movies might have only one genre. In such cases, extract the single genre into both the columns, i.e. for such movies the `genre_2` will be the same as `genre_1`.\n",
    "2. Group the dataframe using `genre_1` as the primary column and `genre_2` as the secondary column.\n",
    "3. Find out the 5 most popular combo of genres by finding the mean of the gross values using the `gross` column and store them in a new dataframe named `PopGenre`."
   ]
  },
  {
   "cell_type": "code",
   "execution_count": 26,
   "metadata": {},
   "outputs": [
    {
     "name": "stdout",
     "output_type": "stream",
     "text": [
      "                              movie_title    genre_1    genre_2\n",
      "0                                 Avatar      Action  Adventure\n",
      "29                        Jurassic World      Action  Adventure\n",
      "26                               Titanic       Drama    Romance\n",
      "3024  Star Wars: Episode IV - A New Hope      Action  Adventure\n",
      "3080          E.T. the Extra-Terrestrial      Family     Sci-Fi\n",
      "...                                   ...        ...        ...\n",
      "2334                            Steamboy      Action  Adventure\n",
      "2323                   Princess Mononoke   Adventure  Animation\n",
      "3005                            Fateless       Drama    Romance\n",
      "3859                      Lady Vengeance       Crime      Drama\n",
      "2988                            The Host      Comedy      Drama\n",
      "\n",
      "[3856 rows x 3 columns]\n"
     ]
    }
   ],
   "source": [
    "# Write your code for extracting the first two genres of each movie here\n",
    "\n",
    "movies['genre_1'] = np.where(pd.isna(movies.genres.str.split('|').str[0]), movies.genres.str.split('|').str[1], movies.genres.str.split('|').str[0])\n",
    "movies['genre_2'] = np.where(pd.isna(movies.genres.str.split('|').str[1]), movies.genres.str.split('|').str[0], movies.genres.str.split('|').str[1])\n",
    "\n",
    "print(movies[['movie_title','genre_1', 'genre_2']])"
   ]
  },
  {
   "cell_type": "code",
   "execution_count": 27,
   "metadata": {},
   "outputs": [],
   "source": [
    "# Group the dataframe using genre_1 as the primary column and genre_2 as the secondary column.\n",
    "\n",
    "movies_by_segment = movies.groupby(['genre_1', 'genre_2'])\n"
   ]
  },
  {
   "cell_type": "code",
   "execution_count": 28,
   "metadata": {},
   "outputs": [
    {
     "name": "stdout",
     "output_type": "stream",
     "text": [
      "                          gross\n",
      "genre_1   genre_2              \n",
      "Family    Sci-Fi     434.949459\n",
      "Adventure Sci-Fi     228.627758\n",
      "          Family     118.919540\n",
      "          Animation  116.998550\n",
      "Action    Adventure  109.595465\n"
     ]
    }
   ],
   "source": [
    "# Find out the 5 most popular combo of genres by finding the mean of the gross values using the gross column and store them in a new dataframe named PopGenre.\n",
    "\n",
    "PopGenre = pd.DataFrame(movies_by_segment.gross.mean().sort_values(ascending = False).head(5))\n",
    "\n",
    "print(PopGenre)"
   ]
  },
  {
   "cell_type": "markdown",
   "metadata": {},
   "source": [
    "**Checkpoint 5:** Well, as it turns out. `Family + Sci-Fi` is the most popular combo of genres out there!"
   ]
  },
  {
   "cell_type": "markdown",
   "metadata": {},
   "source": [
    "-  ### Subtask 3.7: Find the critic-favorite and audience-favorite actors\n",
    "\n",
    "    1. Create three new dataframes namely, `Meryl_Streep`, `Leo_Caprio`, and `Brad_Pitt` which contain the movies in which the actors: 'Meryl Streep', 'Leonardo DiCaprio', and 'Brad Pitt' are the lead actors. Use only the `actor_1_name` column for extraction. Also, make sure that you use the names 'Meryl Streep', 'Leonardo DiCaprio', and 'Brad Pitt' for the said extraction.\n",
    "    2. Append the rows of all these dataframes and store them in a new dataframe named `Combined`.\n",
    "    3. Group the combined dataframe using the `actor_1_name` column.\n",
    "    4. Find the mean of the `num_critic_for_reviews` and `num_users_for_review` and identify the actors which have the highest mean.\n",
    "    5. Observe the change in number of voted users over decades using a bar chart. Create a column called `decade` which represents the decade to which every movie belongs to. For example, the  `title_year`  year 1923, 1925 should be stored as 1920s. Sort the dataframe based on the column `decade`, group it by `decade` and find the sum of users voted in each decade. Store this in a new data frame called `df_by_decade`."
   ]
  },
  {
   "cell_type": "code",
   "execution_count": 29,
   "metadata": {},
   "outputs": [],
   "source": [
    "# Write your code for creating three new dataframes here\n",
    "\n",
    "Meryl_Streep = movies[movies.actor_1_name == 'Meryl Streep']# Include all movies in which Meryl_Streep is the lead"
   ]
  },
  {
   "cell_type": "code",
   "execution_count": 30,
   "metadata": {},
   "outputs": [],
   "source": [
    "Leo_Caprio = movies[movies.actor_1_name == 'Leonardo DiCaprio'] # Include all movies in which Leo_Caprio is the lead"
   ]
  },
  {
   "cell_type": "code",
   "execution_count": 31,
   "metadata": {},
   "outputs": [],
   "source": [
    "Brad_Pitt = movies[movies.actor_1_name == 'Brad Pitt']# Include all movies in which Brad_Pitt is the lead"
   ]
  },
  {
   "cell_type": "code",
   "execution_count": 34,
   "metadata": {},
   "outputs": [],
   "source": [
    "# Write your code for combining the three dataframes here\n",
    "frames = [Meryl_Streep, Leo_Caprio, Brad_Pitt]\n",
    "Combined = pd.concat(frames)"
   ]
  },
  {
   "cell_type": "code",
   "execution_count": 33,
   "metadata": {},
   "outputs": [
    {
     "name": "stdout",
     "output_type": "stream",
     "text": [
      "                       director_name  num_critic_for_reviews       gross  \\\n",
      "actor_1_name                                                               \n",
      "Brad Pitt          Steven Soderbergh                   186.0  183.405771   \n",
      "Leonardo DiCaprio      James Cameron                   315.0  658.672302   \n",
      "Meryl Streep           David Frankel                   208.0  124.732962   \n",
      "\n",
      "                                 genres             movie_title  \\\n",
      "actor_1_name                                                      \n",
      "Brad Pitt                Crime|Thriller         Ocean's Eleven    \n",
      "Leonardo DiCaprio         Drama|Romance                Titanic    \n",
      "Meryl Streep       Comedy|Drama|Romance  The Devil Wears Prada    \n",
      "\n",
      "                   num_voted_users  num_user_for_reviews language  budget  \\\n",
      "actor_1_name                                                                \n",
      "Brad Pitt                   402645                 845.0  English    85.0   \n",
      "Leonardo DiCaprio           793059                2528.0  English   200.0   \n",
      "Meryl Streep                286178                 631.0  English    35.0   \n",
      "\n",
      "                   title_year  imdb_score  movie_facebook_likes      profit  \\\n",
      "actor_1_name                                                                  \n",
      "Brad Pitt              2001.0         7.8                     0   98.405771   \n",
      "Leonardo DiCaprio      1997.0         7.7                 26000  458.672302   \n",
      "Meryl Streep           2006.0         6.8                     0   89.732962   \n",
      "\n",
      "                  genre_1   genre_2  \n",
      "actor_1_name                         \n",
      "Brad Pitt           Crime  Thriller  \n",
      "Leonardo DiCaprio   Drama   Romance  \n",
      "Meryl Streep       Comedy     Drama  \n"
     ]
    }
   ],
   "source": [
    "# Write your code for grouping the combined dataframe here\n",
    "Combined_grouped = Combined.groupby('actor_1_name')\n",
    "print(Combined_grouped.first())"
   ]
  },
  {
   "cell_type": "code",
   "execution_count": 35,
   "metadata": {},
   "outputs": [
    {
     "name": "stdout",
     "output_type": "stream",
     "text": [
      "                   num_critic_for_reviews  num_user_for_reviews\n",
      "actor_1_name                                                   \n",
      "Leonardo DiCaprio              330.190476            914.476190\n",
      "Brad Pitt                      245.000000            742.352941\n",
      "Meryl Streep                   181.454545            297.181818\n"
     ]
    }
   ],
   "source": [
    "# Write the code for finding the mean of critic reviews and audience reviews here\n",
    "Combined_grouped = Combined_grouped['num_critic_for_reviews', 'num_user_for_reviews'].mean().sort_values(by='num_critic_for_reviews', ascending=False)\n",
    "\n",
    "print(Combined_grouped)"
   ]
  },
  {
   "cell_type": "markdown",
   "metadata": {},
   "source": [
    "**Checkpoint 6:** `Leonardo` has aced both the lists!"
   ]
  },
  {
   "cell_type": "code",
   "execution_count": 36,
   "metadata": {},
   "outputs": [],
   "source": [
    "# Write the code for calculating decade here\n",
    "movies['decade'] = (movies['title_year']//10*10).astype('int32')\n"
   ]
  },
  {
   "cell_type": "code",
   "execution_count": 37,
   "metadata": {},
   "outputs": [
    {
     "name": "stdout",
     "output_type": "stream",
     "text": [
      "decade\n",
      "1920       116392\n",
      "1930       804839\n",
      "1940       230838\n",
      "1950       678336\n",
      "1960      2983442\n",
      "1970      8524102\n",
      "1980     19987476\n",
      "1990     69735679\n",
      "2000    170908676\n",
      "2010    120640994\n",
      "Name: num_voted_users, dtype: int64\n"
     ]
    }
   ],
   "source": [
    "# Write your code for creating the data frame df_by_decade here \n",
    "df_by_decade = movies\n",
    "df_by_decade = df_by_decade.sort_values(by=['decade'], ascending=False)\n",
    "\n",
    "df_by_decade = df_by_decade.groupby('decade')['num_voted_users'].sum()\n",
    "\n",
    "print(df_by_decade)"
   ]
  },
  {
   "cell_type": "code",
   "execution_count": 38,
   "metadata": {},
   "outputs": [
    {
     "data": {
      "text/plain": [
       "<matplotlib.axes._subplots.AxesSubplot at 0x16a6c7d1a88>"
      ]
     },
     "execution_count": 38,
     "metadata": {},
     "output_type": "execute_result"
    },
    {
     "data": {
      "image/png": "[encoded data removed]",
      "text/plain": [
       "<Figure size 1080x576 with 1 Axes>"
      ]
     },
     "metadata": {
      "needs_background": "light"
     },
     "output_type": "display_data"
    }
   ],
   "source": [
    "# Write your code for plotting number of voted users vs decade\n",
    "\n",
    "plt.yscale('log')\n",
    "df_by_decade.plot.bar(x='decade', y='sum', stacked=True, figsize=(15,8), title=\"Change in number of voted users over decades\")"
   ]
  },
  {
   "cell_type": "code",
   "execution_count": null,
   "metadata": {},
   "outputs": [],
   "source": []
  }
 ],
 "metadata": {
  "kernelspec": {
   "display_name": "Python 3",
   "language": "python",
   "name": "python3"
  },
  "language_info": {
   "codemirror_mode": {
    "name": "ipython",
    "version": 3
   },
   "file_extension": ".py",
   "mimetype": "text/x-python",
   "name": "python",
   "nbconvert_exporter": "python",
   "pygments_lexer": "ipython3",
   "version": "3.7.4"
  }
 },
 "nbformat": 4,
 "nbformat_minor": 2
}
